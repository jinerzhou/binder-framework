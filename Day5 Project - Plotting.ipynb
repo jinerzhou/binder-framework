{
 "cells": [
  {
   "cell_type": "markdown",
   "id": "54fe923a",
   "metadata": {},
   "source": [
    "## Value of Energy Cost Saving Program"
   ]
  },
  {
   "cell_type": "markdown",
   "id": "1c5ebb2a",
   "metadata": {},
   "source": [
    "### Day 4: Pandas\n",
    "\n",
    "Milestone Action Items<br>\n",
    "\n",
    "Download the data set about Value of Energy Cost Saving Program for businesses in New York City (under the \"Export\" option, there is a way to retrieve a CSV file). Answer the following questions.<br>\n",
    "\n",
    "How many different companies are represented in the data set? <br>\n",
    "What is the total number of jobs created for businesses in Queens? <br>\n",
    "How many different unique email domains names are there in the data set? <br>\n",
    "Considering only NTAs with at least 5 listed businesses, what is the average total savings and the total jobs created for each NTA? <br>\n",
    "Save your result for the previous question as a CSV file <br>\n"
   ]
  },
  {
   "cell_type": "code",
   "execution_count": 171,
   "id": "0294f762",
   "metadata": {},
   "outputs": [
    {
     "data": {
      "text/plain": [
       "'C:\\\\Users\\\\jzhou01\\\\My Files\\\\Data Science\\\\The Data Incubator Bootcamp\\\\12 Day Prerequisites\\\\Day4'"
      ]
     },
     "execution_count": 171,
     "metadata": {},
     "output_type": "execute_result"
    }
   ],
   "source": [
    "pwd"
   ]
  },
  {
   "cell_type": "code",
   "execution_count": 172,
   "id": "fb9ba934",
   "metadata": {},
   "outputs": [
    {
     "name": "stdout",
     "output_type": "stream",
     "text": [
      "<class 'pandas.core.frame.DataFrame'>\n",
      "RangeIndex: 450 entries, 0 to 449\n",
      "Data columns (total 26 columns):\n",
      " #   Column                                     Non-Null Count  Dtype  \n",
      "---  ------                                     --------------  -----  \n",
      " 0   Company Name                               450 non-null    object \n",
      " 1   company contact                            450 non-null    object \n",
      " 2   company email                              433 non-null    object \n",
      " 3   company phone                              450 non-null    object \n",
      " 4   Address                                    450 non-null    object \n",
      " 5   City                                       450 non-null    object \n",
      " 6   State                                      450 non-null    object \n",
      " 7   Postcode                                   450 non-null    int64  \n",
      " 8   Industry                                   450 non-null    object \n",
      " 9   Industry descr                             434 non-null    object \n",
      " 10  Company Type                               450 non-null    object \n",
      " 11  Current fulltime                           446 non-null    float64\n",
      " 12  Job created                                11 non-null     float64\n",
      " 13  Job retain                                 14 non-null     float64\n",
      " 14  Effective Date                             450 non-null    object \n",
      " 15  Total Savings                              450 non-null    float64\n",
      " 16  Savings from beginning receiving benefits  450 non-null    float64\n",
      " 17  Borough                                    450 non-null    object \n",
      " 18  Latitude                                   409 non-null    float64\n",
      " 19  Longitude                                  409 non-null    float64\n",
      " 20  Community Board                            409 non-null    float64\n",
      " 21  Council District                           409 non-null    float64\n",
      " 22  Census Tract                               409 non-null    float64\n",
      " 23  BIN                                        401 non-null    float64\n",
      " 24  BBL                                        401 non-null    float64\n",
      " 25  NTA                                        409 non-null    object \n",
      "dtypes: float64(12), int64(1), object(13)\n",
      "memory usage: 91.5+ KB\n"
     ]
    }
   ],
   "source": [
    "import pandas as pd\n",
    "\n",
    "df = pd.read_csv('Value_of_Energy_Cost_Savings_Program_Savings_for_Businesses_-_FY2020.csv')\n",
    "# df.head(5)\n",
    "df.info()"
   ]
  },
  {
   "cell_type": "markdown",
   "id": "3290208e",
   "metadata": {},
   "source": [
    "#### 1. How many different companies are represented in the data set?"
   ]
  },
  {
   "cell_type": "code",
   "execution_count": 173,
   "id": "f21a569c",
   "metadata": {},
   "outputs": [
    {
     "data": {
      "text/plain": [
       "439"
      ]
     },
     "execution_count": 173,
     "metadata": {},
     "output_type": "execute_result"
    }
   ],
   "source": [
    "df['Company Name'].nunique()"
   ]
  },
  {
   "cell_type": "markdown",
   "id": "81b6f057",
   "metadata": {},
   "source": [
    "#### 2. What is the total number of jobs created for businesses in Queens?"
   ]
  },
  {
   "cell_type": "code",
   "execution_count": 174,
   "id": "5cb0654d",
   "metadata": {},
   "outputs": [
    {
     "data": {
      "text/plain": [
       "90.0"
      ]
     },
     "execution_count": 174,
     "metadata": {},
     "output_type": "execute_result"
    }
   ],
   "source": [
    "# df['Job created']\n",
    "\n",
    "df[df['City'] == 'Queens']['Job created'].sum()"
   ]
  },
  {
   "cell_type": "markdown",
   "id": "34e6c788",
   "metadata": {},
   "source": [
    "#### 3. How many different unique email domains names are there in the data set?"
   ]
  },
  {
   "cell_type": "code",
   "execution_count": 175,
   "id": "27f001a5",
   "metadata": {},
   "outputs": [
    {
     "data": {
      "text/plain": [
       "356"
      ]
     },
     "execution_count": 175,
     "metadata": {},
     "output_type": "execute_result"
    }
   ],
   "source": [
    "df_email = df[df['company email'].str.contains(\"@\") == True]  \n",
    "df_email = df_email['company email'].dropna()\n",
    "\n",
    "df_email.apply(lambda x: x.split('@')[1]).nunique()"
   ]
  },
  {
   "cell_type": "code",
   "execution_count": 176,
   "id": "013d6ca5",
   "metadata": {},
   "outputs": [],
   "source": [
    "# df_email.apply(lambda x: x.split('@')[1]).value_counts()\n",
    "\n",
    "# def checkemail (x):\n",
    "#     if '@' in x:\n",
    "#         return True\n",
    "#     else:\n",
    "#         return False\n",
    "    \n",
    "# df_email.apply(lambda x: checkemail(x)).value_counts()   "
   ]
  },
  {
   "cell_type": "markdown",
   "id": "4df3d794",
   "metadata": {},
   "source": [
    "#### 4. Considering only NTAs with at least 5 listed businesses, what is the average total savings and the total jobs created for each NTA?"
   ]
  },
  {
   "cell_type": "code",
   "execution_count": 177,
   "id": "21d5f7b9",
   "metadata": {},
   "outputs": [],
   "source": [
    "# df['NTA'].isnull().sum()\n",
    "# df['NTA'].value_counts(dropna=True)\n",
    "# df_nta = df.drop_duplicates(['Company Name'], keep='last')\n",
    "\n",
    "# sum(df_nta['NTA'].value_counts()>=5)\n",
    "# df['NTA'].value_counts().loc[lambda x:x>=5]"
   ]
  },
  {
   "cell_type": "code",
   "execution_count": 178,
   "id": "d1c8f685",
   "metadata": {},
   "outputs": [
    {
     "data": {
      "text/html": [
       "<div>\n",
       "<style scoped>\n",
       "    .dataframe tbody tr th:only-of-type {\n",
       "        vertical-align: middle;\n",
       "    }\n",
       "\n",
       "    .dataframe tbody tr th {\n",
       "        vertical-align: top;\n",
       "    }\n",
       "\n",
       "    .dataframe thead th {\n",
       "        text-align: right;\n",
       "    }\n",
       "</style>\n",
       "<table border=\"1\" class=\"dataframe\">\n",
       "  <thead>\n",
       "    <tr style=\"text-align: right;\">\n",
       "      <th></th>\n",
       "      <th>Total Savings</th>\n",
       "      <th>Job created</th>\n",
       "    </tr>\n",
       "    <tr>\n",
       "      <th>NTA</th>\n",
       "      <th></th>\n",
       "      <th></th>\n",
       "    </tr>\n",
       "  </thead>\n",
       "  <tbody>\n",
       "    <tr>\n",
       "      <th>Battery Park City-Lower Manhattan</th>\n",
       "      <td>469890.796667</td>\n",
       "      <td>NaN</td>\n",
       "    </tr>\n",
       "    <tr>\n",
       "      <th>Bushwick South</th>\n",
       "      <td>26140.455000</td>\n",
       "      <td>10.000000</td>\n",
       "    </tr>\n",
       "    <tr>\n",
       "      <th>Carroll Gardens-Columbia Street-Red Hook</th>\n",
       "      <td>24337.390000</td>\n",
       "      <td>NaN</td>\n",
       "    </tr>\n",
       "    <tr>\n",
       "      <th>College Point</th>\n",
       "      <td>17159.372857</td>\n",
       "      <td>2.000000</td>\n",
       "    </tr>\n",
       "    <tr>\n",
       "      <th>Crown Heights North</th>\n",
       "      <td>4036.298889</td>\n",
       "      <td>NaN</td>\n",
       "    </tr>\n",
       "    <tr>\n",
       "      <th>DUMBO-Vinegar Hill-Downtown Brooklyn-Boerum Hill</th>\n",
       "      <td>59950.340000</td>\n",
       "      <td>NaN</td>\n",
       "    </tr>\n",
       "    <tr>\n",
       "      <th>East New York</th>\n",
       "      <td>48433.093333</td>\n",
       "      <td>15.000000</td>\n",
       "    </tr>\n",
       "    <tr>\n",
       "      <th>East Williamsburg</th>\n",
       "      <td>13990.626364</td>\n",
       "      <td>NaN</td>\n",
       "    </tr>\n",
       "    <tr>\n",
       "      <th>Greenpoint</th>\n",
       "      <td>9753.649286</td>\n",
       "      <td>NaN</td>\n",
       "    </tr>\n",
       "    <tr>\n",
       "      <th>Hunters Point-Sunnyside-West Maspeth</th>\n",
       "      <td>23931.398933</td>\n",
       "      <td>NaN</td>\n",
       "    </tr>\n",
       "    <tr>\n",
       "      <th>Hunts Point</th>\n",
       "      <td>39246.016154</td>\n",
       "      <td>12.000000</td>\n",
       "    </tr>\n",
       "    <tr>\n",
       "      <th>Manhattanville</th>\n",
       "      <td>2760.888889</td>\n",
       "      <td>NaN</td>\n",
       "    </tr>\n",
       "    <tr>\n",
       "      <th>Maspeth</th>\n",
       "      <td>6658.283333</td>\n",
       "      <td>10.000000</td>\n",
       "    </tr>\n",
       "    <tr>\n",
       "      <th>Mott Haven-Port Morris</th>\n",
       "      <td>17843.937857</td>\n",
       "      <td>3.333333</td>\n",
       "    </tr>\n",
       "    <tr>\n",
       "      <th>Queensbridge-Ravenswood-Long Island City</th>\n",
       "      <td>61830.770625</td>\n",
       "      <td>NaN</td>\n",
       "    </tr>\n",
       "    <tr>\n",
       "      <th>SoHo-TriBeCa-Civic Center-Little Italy</th>\n",
       "      <td>37214.024000</td>\n",
       "      <td>NaN</td>\n",
       "    </tr>\n",
       "    <tr>\n",
       "      <th>Springfield Gardens South-Brookville</th>\n",
       "      <td>17757.662000</td>\n",
       "      <td>NaN</td>\n",
       "    </tr>\n",
       "    <tr>\n",
       "      <th>Steinway</th>\n",
       "      <td>11227.155714</td>\n",
       "      <td>20.000000</td>\n",
       "    </tr>\n",
       "    <tr>\n",
       "      <th>Sunset Park West</th>\n",
       "      <td>14316.976875</td>\n",
       "      <td>NaN</td>\n",
       "    </tr>\n",
       "    <tr>\n",
       "      <th>park-cemetery-etc-Brooklyn</th>\n",
       "      <td>14327.419333</td>\n",
       "      <td>NaN</td>\n",
       "    </tr>\n",
       "  </tbody>\n",
       "</table>\n",
       "</div>"
      ],
      "text/plain": [
       "                                                  Total Savings  Job created\n",
       "NTA                                                                         \n",
       "Battery Park City-Lower Manhattan                 469890.796667          NaN\n",
       "Bushwick South                                     26140.455000    10.000000\n",
       "Carroll Gardens-Columbia Street-Red Hook           24337.390000          NaN\n",
       "College Point                                      17159.372857     2.000000\n",
       "Crown Heights North                                 4036.298889          NaN\n",
       "DUMBO-Vinegar Hill-Downtown Brooklyn-Boerum Hill   59950.340000          NaN\n",
       "East New York                                      48433.093333    15.000000\n",
       "East Williamsburg                                  13990.626364          NaN\n",
       "Greenpoint                                          9753.649286          NaN\n",
       "Hunters Point-Sunnyside-West Maspeth               23931.398933          NaN\n",
       "Hunts Point                                        39246.016154    12.000000\n",
       "Manhattanville                                      2760.888889          NaN\n",
       "Maspeth                                             6658.283333    10.000000\n",
       "Mott Haven-Port Morris                             17843.937857     3.333333\n",
       "Queensbridge-Ravenswood-Long Island City           61830.770625          NaN\n",
       "SoHo-TriBeCa-Civic Center-Little Italy             37214.024000          NaN\n",
       "Springfield Gardens South-Brookville               17757.662000          NaN\n",
       "Steinway                                           11227.155714    20.000000\n",
       "Sunset Park West                                   14316.976875          NaN\n",
       "park-cemetery-etc-Brooklyn                         14327.419333          NaN"
      ]
     },
     "execution_count": 178,
     "metadata": {},
     "output_type": "execute_result"
    }
   ],
   "source": [
    "df_nta = df.dropna(subset=['NTA'])\n",
    "df_nta = df_nta[df_nta.groupby('NTA')['NTA'].transform('count')>=5]\n",
    "\n",
    "df_nta = df_nta.groupby('NTA').mean()[['Total Savings','Job created']]\n",
    "df_nta"
   ]
  },
  {
   "cell_type": "code",
   "execution_count": null,
   "id": "1a1cf652",
   "metadata": {},
   "outputs": [],
   "source": []
  },
  {
   "cell_type": "markdown",
   "id": "e25f3fd5",
   "metadata": {},
   "source": [
    "#### 5. Save your result for the previous question as a CSV file"
   ]
  },
  {
   "cell_type": "code",
   "execution_count": 179,
   "id": "2fd02811",
   "metadata": {},
   "outputs": [],
   "source": [
    "df_nta.to_csv('df_nta',sep=',', encoding='utf-8', header='true')"
   ]
  },
  {
   "cell_type": "code",
   "execution_count": null,
   "id": "171522d0",
   "metadata": {},
   "outputs": [],
   "source": []
  },
  {
   "cell_type": "code",
   "execution_count": 180,
   "id": "e5ae1fea",
   "metadata": {},
   "outputs": [
    {
     "data": {
      "text/html": [
       "<div>\n",
       "<style scoped>\n",
       "    .dataframe tbody tr th:only-of-type {\n",
       "        vertical-align: middle;\n",
       "    }\n",
       "\n",
       "    .dataframe tbody tr th {\n",
       "        vertical-align: top;\n",
       "    }\n",
       "\n",
       "    .dataframe thead th {\n",
       "        text-align: right;\n",
       "    }\n",
       "</style>\n",
       "<table border=\"1\" class=\"dataframe\">\n",
       "  <thead>\n",
       "    <tr style=\"text-align: right;\">\n",
       "      <th></th>\n",
       "      <th>NTA</th>\n",
       "      <th>Total Savings</th>\n",
       "      <th>Job created</th>\n",
       "    </tr>\n",
       "  </thead>\n",
       "  <tbody>\n",
       "    <tr>\n",
       "      <th>0</th>\n",
       "      <td>Battery Park City-Lower Manhattan</td>\n",
       "      <td>469890.796667</td>\n",
       "      <td>NaN</td>\n",
       "    </tr>\n",
       "    <tr>\n",
       "      <th>1</th>\n",
       "      <td>Bushwick South</td>\n",
       "      <td>26140.455000</td>\n",
       "      <td>10.000000</td>\n",
       "    </tr>\n",
       "    <tr>\n",
       "      <th>2</th>\n",
       "      <td>Carroll Gardens-Columbia Street-Red Hook</td>\n",
       "      <td>24337.390000</td>\n",
       "      <td>NaN</td>\n",
       "    </tr>\n",
       "    <tr>\n",
       "      <th>3</th>\n",
       "      <td>College Point</td>\n",
       "      <td>17159.372857</td>\n",
       "      <td>2.000000</td>\n",
       "    </tr>\n",
       "    <tr>\n",
       "      <th>4</th>\n",
       "      <td>Crown Heights North</td>\n",
       "      <td>4036.298889</td>\n",
       "      <td>NaN</td>\n",
       "    </tr>\n",
       "    <tr>\n",
       "      <th>5</th>\n",
       "      <td>DUMBO-Vinegar Hill-Downtown Brooklyn-Boerum Hill</td>\n",
       "      <td>59950.340000</td>\n",
       "      <td>NaN</td>\n",
       "    </tr>\n",
       "    <tr>\n",
       "      <th>6</th>\n",
       "      <td>East New York</td>\n",
       "      <td>48433.093333</td>\n",
       "      <td>15.000000</td>\n",
       "    </tr>\n",
       "    <tr>\n",
       "      <th>7</th>\n",
       "      <td>East Williamsburg</td>\n",
       "      <td>13990.626364</td>\n",
       "      <td>NaN</td>\n",
       "    </tr>\n",
       "    <tr>\n",
       "      <th>8</th>\n",
       "      <td>Greenpoint</td>\n",
       "      <td>9753.649286</td>\n",
       "      <td>NaN</td>\n",
       "    </tr>\n",
       "    <tr>\n",
       "      <th>9</th>\n",
       "      <td>Hunters Point-Sunnyside-West Maspeth</td>\n",
       "      <td>23931.398933</td>\n",
       "      <td>NaN</td>\n",
       "    </tr>\n",
       "    <tr>\n",
       "      <th>10</th>\n",
       "      <td>Hunts Point</td>\n",
       "      <td>39246.016154</td>\n",
       "      <td>12.000000</td>\n",
       "    </tr>\n",
       "    <tr>\n",
       "      <th>11</th>\n",
       "      <td>Manhattanville</td>\n",
       "      <td>2760.888889</td>\n",
       "      <td>NaN</td>\n",
       "    </tr>\n",
       "    <tr>\n",
       "      <th>12</th>\n",
       "      <td>Maspeth</td>\n",
       "      <td>6658.283333</td>\n",
       "      <td>10.000000</td>\n",
       "    </tr>\n",
       "    <tr>\n",
       "      <th>13</th>\n",
       "      <td>Mott Haven-Port Morris</td>\n",
       "      <td>17843.937857</td>\n",
       "      <td>3.333333</td>\n",
       "    </tr>\n",
       "    <tr>\n",
       "      <th>14</th>\n",
       "      <td>Queensbridge-Ravenswood-Long Island City</td>\n",
       "      <td>61830.770625</td>\n",
       "      <td>NaN</td>\n",
       "    </tr>\n",
       "    <tr>\n",
       "      <th>15</th>\n",
       "      <td>SoHo-TriBeCa-Civic Center-Little Italy</td>\n",
       "      <td>37214.024000</td>\n",
       "      <td>NaN</td>\n",
       "    </tr>\n",
       "    <tr>\n",
       "      <th>16</th>\n",
       "      <td>Springfield Gardens South-Brookville</td>\n",
       "      <td>17757.662000</td>\n",
       "      <td>NaN</td>\n",
       "    </tr>\n",
       "    <tr>\n",
       "      <th>17</th>\n",
       "      <td>Steinway</td>\n",
       "      <td>11227.155714</td>\n",
       "      <td>20.000000</td>\n",
       "    </tr>\n",
       "    <tr>\n",
       "      <th>18</th>\n",
       "      <td>Sunset Park West</td>\n",
       "      <td>14316.976875</td>\n",
       "      <td>NaN</td>\n",
       "    </tr>\n",
       "    <tr>\n",
       "      <th>19</th>\n",
       "      <td>park-cemetery-etc-Brooklyn</td>\n",
       "      <td>14327.419333</td>\n",
       "      <td>NaN</td>\n",
       "    </tr>\n",
       "  </tbody>\n",
       "</table>\n",
       "</div>"
      ],
      "text/plain": [
       "                                                 NTA  Total Savings  \\\n",
       "0                  Battery Park City-Lower Manhattan  469890.796667   \n",
       "1                                     Bushwick South   26140.455000   \n",
       "2           Carroll Gardens-Columbia Street-Red Hook   24337.390000   \n",
       "3                                      College Point   17159.372857   \n",
       "4                                Crown Heights North    4036.298889   \n",
       "5   DUMBO-Vinegar Hill-Downtown Brooklyn-Boerum Hill   59950.340000   \n",
       "6                                      East New York   48433.093333   \n",
       "7                                  East Williamsburg   13990.626364   \n",
       "8                                         Greenpoint    9753.649286   \n",
       "9               Hunters Point-Sunnyside-West Maspeth   23931.398933   \n",
       "10                                       Hunts Point   39246.016154   \n",
       "11                                    Manhattanville    2760.888889   \n",
       "12                                           Maspeth    6658.283333   \n",
       "13                            Mott Haven-Port Morris   17843.937857   \n",
       "14          Queensbridge-Ravenswood-Long Island City   61830.770625   \n",
       "15            SoHo-TriBeCa-Civic Center-Little Italy   37214.024000   \n",
       "16              Springfield Gardens South-Brookville   17757.662000   \n",
       "17                                          Steinway   11227.155714   \n",
       "18                                  Sunset Park West   14316.976875   \n",
       "19                        park-cemetery-etc-Brooklyn   14327.419333   \n",
       "\n",
       "    Job created  \n",
       "0           NaN  \n",
       "1     10.000000  \n",
       "2           NaN  \n",
       "3      2.000000  \n",
       "4           NaN  \n",
       "5           NaN  \n",
       "6     15.000000  \n",
       "7           NaN  \n",
       "8           NaN  \n",
       "9           NaN  \n",
       "10    12.000000  \n",
       "11          NaN  \n",
       "12    10.000000  \n",
       "13     3.333333  \n",
       "14          NaN  \n",
       "15          NaN  \n",
       "16          NaN  \n",
       "17    20.000000  \n",
       "18          NaN  \n",
       "19          NaN  "
      ]
     },
     "execution_count": 180,
     "metadata": {},
     "output_type": "execute_result"
    }
   ],
   "source": [
    "# read csv file into dataframe\n",
    "\n",
    "dft = pd.read_csv('df_nta')\n",
    "dft\n"
   ]
  },
  {
   "cell_type": "code",
   "execution_count": null,
   "id": "acd644ed",
   "metadata": {},
   "outputs": [],
   "source": []
  },
  {
   "cell_type": "markdown",
   "id": "35a866ab",
   "metadata": {},
   "source": [
    "\n",
    "### Day 5: Plotting\n",
    "\n",
    "Matplotlib is Python's most popular plotting package. \n",
    "\n",
    "\n",
    "Milestone Action Items <br>\n",
    "\n",
    "1. Go through the Introductory Tutorials on Matplotlib.  <br> \n",
    "2. Using the same data set and results that you were working with in the pandas action items section (Day 4), create a <br>\n",
    "&emsp;  1) scatter plot of jobs created versus average savings. Use both a standard and a logarithmic scale for the average savings. <br> \n",
    "&emsp;  2) histogram of the log of the average total savings. <br> \n",
    "&emsp;  3) line plot of the total jobs created for each month. <br> \n",
    "3. If you have time, take a look at this short tutorial on Altair. <br>"
   ]
  },
  {
   "cell_type": "code",
   "execution_count": 181,
   "id": "79b8566e",
   "metadata": {},
   "outputs": [],
   "source": [
    "import matplotlib.pyplot as plt"
   ]
  },
  {
   "cell_type": "code",
   "execution_count": 182,
   "id": "b52aeffa",
   "metadata": {},
   "outputs": [],
   "source": [
    "%matplotlib inline"
   ]
  },
  {
   "cell_type": "markdown",
   "id": "08bc8c1c",
   "metadata": {},
   "source": [
    "<br>\n",
    "1) scatter plot of jobs created versus average savings. Use both a standard and a logarithmic scale for the average savings."
   ]
  },
  {
   "cell_type": "code",
   "execution_count": 183,
   "id": "e3044bfa",
   "metadata": {},
   "outputs": [
    {
     "data": {
      "image/png": "[encoded data removed]",
      "text/plain": [
       "<Figure size 720x360 with 2 Axes>"
      ]
     },
     "metadata": {
      "needs_background": "light"
     },
     "output_type": "display_data"
    }
   ],
   "source": [
    "fig, ax = plt.subplots(1,2, figsize=(10,5))\n",
    "\n",
    "ax[0].scatter(df_nta['Job created'], df_nta['Total Savings'])\n",
    "ax[0].set_xlabel('Job created')\n",
    "ax[0].set_ylabel('Total Savings')\n",
    "ax[0].set_title('Standard Scale')\n",
    "\n",
    "\n",
    "ax[1].scatter(df_nta['Job created'], df_nta['Total Savings'])\n",
    "ax[1].set_xlabel('Job created')\n",
    "ax[1].set_ylabel(\"Logarithmic scale ('Total Savings')\")\n",
    "ax[1].set_yscale('log')\n",
    "ax[1].set_title('Log Scale')\n",
    "\n",
    "fig.tight_layout()\n",
    "\n"
   ]
  },
  {
   "cell_type": "markdown",
   "id": "369ea11d",
   "metadata": {},
   "source": [
    "<br>\n",
    "2) histogram of the log of the average total savings."
   ]
  },
  {
   "cell_type": "code",
   "execution_count": 184,
   "id": "c651d0d4",
   "metadata": {},
   "outputs": [
    {
     "data": {
      "text/plain": [
       "Text(0.5, 1.0, 'Histogram')"
      ]
     },
     "execution_count": 184,
     "metadata": {},
     "output_type": "execute_result"
    },
    {
     "data": {
      "image/png": "[encoded data removed]",
      "text/plain": [
       "<Figure size 432x288 with 1 Axes>"
      ]
     },
     "metadata": {
      "needs_background": "light"
     },
     "output_type": "display_data"
    }
   ],
   "source": [
    "fig = plt.figure()\n",
    "ax = fig.add_axes([0,0,1,1])\n",
    "\n",
    "ax.hist(df_nta)\n",
    "ax.set_xlabel('Job created')\n",
    "ax.set_ylabel('Total Savings')\n",
    "ax.set_yscale('log')\n",
    "ax.set_title('Histogram')\n"
   ]
  },
  {
   "cell_type": "markdown",
   "id": "aafc27c9",
   "metadata": {},
   "source": [
    "<br>\n",
    "3) line plot of the total jobs created for each month."
   ]
  },
  {
   "cell_type": "code",
   "execution_count": 188,
   "id": "62bafdf0",
   "metadata": {},
   "outputs": [
    {
     "data": {
      "text/plain": [
       "Text(0.5, 1.0, 'Line Plot')"
      ]
     },
     "execution_count": 188,
     "metadata": {},
     "output_type": "execute_result"
    },
    {
     "data": {
      "image/png": "[encoded data removed]",
      "text/plain": [
       "<Figure size 432x288 with 1 Axes>"
      ]
     },
     "metadata": {
      "needs_background": "light"
     },
     "output_type": "display_data"
    }
   ],
   "source": [
    "import datetime as dt\n",
    "\n",
    "# df['Job created'].isnull().sum()\n",
    "df['Eff_DT'] = pd.to_datetime(df['Effective Date'], format='%m/%d/%Y').dt.strftime('%Y%m')\n",
    "# df['year'] =  df['Eff_DT'].dt.year\n",
    "# df['month'] = df['Eff_DT'].dt.month\n",
    "\n",
    "df_job = df.dropna(subset=['Job created'])\n",
    "df_job = df_job.sort_values(by=['Eff_DT'],ascending=True)\n",
    "# print(df_job['Job created'].min(),df_job['Job created'].max(), df_job['Eff_DT'].min(),df_job['Eff_DT'].max())\n",
    "\n",
    "\n",
    "fig = plt.figure()\n",
    "ax = fig.add_axes([0,0,1,1])\n",
    "\n",
    "ax.plot(df_job['Eff_DT'], df_job['Job created'], color='green', marker='o')\n",
    "ax.set_xlabel('Month')\n",
    "ax.set_ylabel('Job created')\n",
    "ax.set_title('Line Plot')\n",
    "\n"
   ]
  },
  {
   "cell_type": "code",
   "execution_count": null,
   "id": "7209d07a",
   "metadata": {},
   "outputs": [],
   "source": []
  },
  {
   "cell_type": "code",
   "execution_count": null,
   "id": "a9af28a1",
   "metadata": {},
   "outputs": [],
   "source": []
  },
  {
   "cell_type": "code",
   "execution_count": null,
   "id": "83ab8ef5",
   "metadata": {},
   "outputs": [],
   "source": []
  },
  {
   "cell_type": "code",
   "execution_count": null,
   "id": "d89b4ad0",
   "metadata": {},
   "outputs": [],
   "source": []
  },
  {
   "cell_type": "code",
   "execution_count": null,
   "id": "d39eeec5",
   "metadata": {},
   "outputs": [],
   "source": []
  },
  {
   "cell_type": "code",
   "execution_count": null,
   "id": "7b41b811",
   "metadata": {},
   "outputs": [],
   "source": []
  }
 ],
 "metadata": {
  "kernelspec": {
   "display_name": "Python 3 (ipykernel)",
   "language": "python",
   "name": "python3"
  },
  "language_info": {
   "codemirror_mode": {
    "name": "ipython",
    "version": 3
   },
   "file_extension": ".py",
   "mimetype": "text/x-python",
   "name": "python",
   "nbconvert_exporter": "python",
   "pygments_lexer": "ipython3",
   "version": "3.9.7"
  }
 },
 "nbformat": 4,
 "nbformat_minor": 5
}
